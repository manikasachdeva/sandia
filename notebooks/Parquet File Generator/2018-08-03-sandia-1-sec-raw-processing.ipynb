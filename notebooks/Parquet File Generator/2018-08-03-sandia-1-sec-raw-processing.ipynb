{
 "cells": [
  {
   "cell_type": "code",
   "execution_count": 16,
   "metadata": {},
   "outputs": [],
   "source": [
    "from pathlib import Path\n",
    "from itertools import chain\n",
    "import pandas as pd\n",
    "import fastparquet\n",
    "from ipywidgets import widgets\n",
    "from ipywidgets import interact, interactive, fixed, interact_manual"
   ]
  },
  {
   "cell_type": "code",
   "execution_count": 17,
   "metadata": {},
   "outputs": [],
   "source": [
    "def sandia2parquet(csvPaths, outputPath):\n",
    "    \"\"\"Combine Sandia raw files and save DataFrame in Parquet.\"\"\"\n",
    "    df = pd.concat(pd.read_csv(p, parse_dates=[[0, 1]], index_col=0) for p in csvPaths)\n",
    "    df.drop_duplicates(inplace=True)\n",
    "    df.sort_index(inplace=True) # ensure datetime is increasing\n",
    "    df.to_parquet(outputPath)\n",
    "    return outputPath"
   ]
  },
  {
   "cell_type": "code",
   "execution_count": 18,
   "metadata": {},
   "outputs": [],
   "source": [
    "# Original Files\n",
    "\n",
    "SANDIA = Path(\"//cfs2e.nist.gov/73_EL/731/internal/CONFOCAL/FS2/Data4/Sandia/Sandia Data\")\n",
    "\n",
    "#DATA1 = SANDIA / \"613_626\"\n",
    "#DATA2 = SANDIA / \"626_711\"\n",
    "DATA3 = SANDIA / \"711_725\"\n",
    "#DATA4 = SANDIA / \"725_87\"\n",
    "#DATA5 = SANDIA / \"88_821\"\n",
    "#DATA6 = SANDIA / \"822_94\"\n",
    "\n",
    "\n",
    "\n",
    "# List Dry files\n",
    "# Parent folder name irregular, sort each list separately then combine\n",
    "PATTERN = \"Dry_*.csv\"\n",
    "DRY_FILES = list(chain.from_iterable([\n",
    "    sorted(DATA1.glob(PATTERN)),\n",
    "    #sorted(DATA2.glob(PATTERN)),\n",
    "    #sorted(DATA3.glob(PATTERN)),\n",
    "    #sorted(DATA4.glob(PATTERN)),\n",
    "    #sorted(DATA5.glob(PATTERN)),\n",
    "    #sorted(DATA6.glob(PATTERN)),\n",
    "]))\n",
    "\n",
    "# List of Humid files\n",
    "PATTERN = \"Humid_*.csv\"\n",
    "HUMID_FILES = list(chain.from_iterable([\n",
    "    sorted(DATA1.glob(PATTERN)),\n",
    "    #sorted(DATA2.glob(PATTERN)),\n",
    "    #sorted(DATA3.glob(PATTERN)),\n",
    "    #sorted(DATA4.glob(PATTERN)),\n",
    "    #sorted(DATA5.glob(PATTERN)),\n",
    "    #sorted(DATA6.glob(PATTERN)),\n",
    "]))\n",
    "\n",
    "# Output files\n",
    "DRY_PARQUET = Path(\"//cfs2e.nist.gov/73_EL/731/internal/CONFOCAL/FS2/Data4/Sandia/Parquet Files/dry-0711-0725-2018.parquet\")\n",
    "HUMID_PARQUET = Path(\"//cfs2e.nist.gov/73_EL/731/internal/CONFOCAL/FS2/Data4/Sandia/Parquet Files/humid-0711-0725-2018.parquet\")"
   ]
  },
  {
   "cell_type": "code",
   "execution_count": null,
   "metadata": {
    "scrolled": true
   },
   "outputs": [],
   "source": [
    "%%time\n",
    "# Process raw files if parquet files don't exist\n",
    "if not DRY_PARQUET.exists():\n",
    "    sandia2parquet(DRY_FILES, DRY_PARQUET)\n",
    "dry = pd.read_parquet(DRY_PARQUET)\n",
    "\n"
   ]
  },
  {
   "cell_type": "code",
   "execution_count": null,
   "metadata": {},
   "outputs": [],
   "source": [
    "%%time\n",
    "if not HUMID_PARQUET.exists():\n",
    "    sandia2parquet(HUMID_FILES, HUMID_PARQUET)\n",
    "humid = pd.read_parquet(HUMID_PARQUET)\n",
    "    \n",
    "\n",
    "    \n"
   ]
  },
  {
   "cell_type": "code",
   "execution_count": null,
   "metadata": {},
   "outputs": [],
   "source": [
    "\n",
    "\n",
    "dry.memory_usage()"
   ]
  },
  {
   "cell_type": "code",
   "execution_count": 25,
   "metadata": {},
   "outputs": [],
   "source": [
    "# Aggregate Hourly\n",
    "dry_hourly = dry.resample('30T').mean()\n",
    "humid_hourly = humid.resample('30T').mean()\n",
    "\n",
    "# Column Names\n",
    "DRY_COLS = dry.columns.tolist()\n",
    "HUMID_COLS = humid.columns.tolist()"
   ]
  },
  {
   "cell_type": "code",
   "execution_count": 26,
   "metadata": {},
   "outputs": [],
   "source": [
    "from ipywidgets import widgets\n",
    "from ipywidgets import interact, interactive, fixed, interact_manual"
   ]
  },
  {
   "cell_type": "code",
   "execution_count": 27,
   "metadata": {},
   "outputs": [
    {
     "data": {
      "application/vnd.jupyter.widget-view+json": {
       "model_id": "c37062e9f27c47959bef70d000d6be5c",
       "version_major": 2,
       "version_minor": 0
      },
      "text/plain": [
       "interactive(children=(SelectMultiple(description='Temperature:', index=(0,), options=('1-Air_Temperature (Deg …"
      ]
     },
     "metadata": {},
     "output_type": "display_data"
    }
   ],
   "source": [
    "drySelect = widgets.SelectMultiple(\n",
    "    options=DRY_COLS,\n",
    "    value=DRY_COLS[:1],\n",
    "    description='Temperature:',\n",
    "    disabled=False,\n",
    ")\n",
    "\n",
    "def plot_dry(cols):\n",
    "    print(cols)\n",
    "    dry_hourly.loc[:, cols].plot()\n",
    "    \n",
    "iplot = interactive(plot_dry, cols=drySelect)\n",
    "output = iplot.children[-1]\n",
    "output.layout.height = '350px'\n",
    "iplot"
   ]
  },
  {
   "cell_type": "code",
   "execution_count": 10,
   "metadata": {},
   "outputs": [
    {
     "data": {
      "application/vnd.jupyter.widget-view+json": {
       "model_id": "693e5b4d673f4afb981527e844ab99a3",
       "version_major": 2,
       "version_minor": 0
      },
      "text/plain": [
       "interactive(children=(SelectMultiple(description='Temperature:', index=(0,), options=('2_Air_Temperature (Deg …"
      ]
     },
     "metadata": {},
     "output_type": "display_data"
    }
   ],
   "source": [
    "humidSelect = widgets.SelectMultiple(\n",
    "    options=HUMID_COLS,\n",
    "    value=HUMID_COLS[:1],\n",
    "    description='Temperature:',\n",
    "    disabled=False,\n",
    ")\n",
    "\n",
    "def plot_humid(cols):\n",
    "    print(cols)\n",
    "    humid_hourly.loc[:, cols].plot()\n",
    "\n",
    "iplot = interactive(plot_humid, cols=humidSelect)\n",
    "output = iplot.children[-1]\n",
    "output.layout.height = '350px'\n",
    "iplot"
   ]
  },
  {
   "cell_type": "code",
   "execution_count": 11,
   "metadata": {},
   "outputs": [],
   "source": [
    "import matplotlib.pyplot as plt\n"
   ]
  },
  {
   "cell_type": "code",
   "execution_count": 12,
   "metadata": {},
   "outputs": [
    {
     "ename": "NameError",
     "evalue": "name 'csv' is not defined",
     "output_type": "error",
     "traceback": [
      "\u001b[1;31m---------------------------------------------------------------------------\u001b[0m",
      "\u001b[1;31mNameError\u001b[0m                                 Traceback (most recent call last)",
      "\u001b[1;32m<ipython-input-12-04ee3cf3e7b4>\u001b[0m in \u001b[0;36m<module>\u001b[1;34m()\u001b[0m\n\u001b[0;32m      4\u001b[0m \u001b[1;33m\u001b[0m\u001b[0m\n\u001b[0;32m      5\u001b[0m \u001b[1;32mwith\u001b[0m \u001b[0mopen\u001b[0m\u001b[1;33m(\u001b[0m\u001b[0mDRY_PARQUET\u001b[0m\u001b[1;33m,\u001b[0m \u001b[1;34m'r'\u001b[0m\u001b[1;33m)\u001b[0m \u001b[1;32mas\u001b[0m \u001b[0mdata\u001b[0m\u001b[1;33m:\u001b[0m\u001b[1;33m\u001b[0m\u001b[0m\n\u001b[1;32m----> 6\u001b[1;33m         \u001b[0mreadData\u001b[0m \u001b[1;33m=\u001b[0m \u001b[0mcsv\u001b[0m\u001b[1;33m.\u001b[0m\u001b[0mreader\u001b[0m\u001b[1;33m(\u001b[0m\u001b[0mdata\u001b[0m\u001b[1;33m,\u001b[0m \u001b[0mdelimiter\u001b[0m\u001b[1;33m=\u001b[0m\u001b[1;34m','\u001b[0m\u001b[1;33m)\u001b[0m\u001b[1;33m\u001b[0m\u001b[0m\n\u001b[0m\u001b[0;32m      7\u001b[0m         \u001b[1;32mfor\u001b[0m \u001b[0mrow\u001b[0m \u001b[1;32min\u001b[0m \u001b[0mreadData\u001b[0m\u001b[1;33m:\u001b[0m\u001b[1;33m\u001b[0m\u001b[0m\n\u001b[0;32m      8\u001b[0m                 \u001b[0mdateTime\u001b[0m\u001b[1;33m.\u001b[0m\u001b[0mappend\u001b[0m\u001b[1;33m(\u001b[0m\u001b[0mrow\u001b[0m\u001b[1;33m[\u001b[0m\u001b[1;36m0\u001b[0m\u001b[1;33m]\u001b[0m\u001b[1;33m)\u001b[0m\u001b[1;33m\u001b[0m\u001b[0m\n",
      "\u001b[1;31mNameError\u001b[0m: name 'csv' is not defined"
     ]
    }
   ],
   "source": [
    "x = []\n",
    "y = []\n",
    "\n",
    "\n",
    "with open(DRY_PARQUET, 'r') as data:\n",
    "\treadData = csv.reader(data, delimiter=',')\n",
    "\tfor row in readData:\n",
    "\t\tdateTime.append(row[0])\t\t\n",
    "\t\tairHumid.append(row[1])\n",
    "\n",
    "plt.plot(dateTime,airHumid, label='Chamber 2 Air Temperature')\n",
    "plt.xlabel('Date')\n",
    "plt.ylabel('Air Temperature')\n",
    "plt.title('Chamber 2 Air Temperature')\n",
    "plt.legend()\n",
    "plt.show()\n",
    "\n"
   ]
  },
  {
   "cell_type": "code",
   "execution_count": null,
   "metadata": {},
   "outputs": [],
   "source": []
  },
  {
   "cell_type": "code",
   "execution_count": null,
   "metadata": {},
   "outputs": [],
   "source": []
  }
 ],
 "metadata": {
  "kernelspec": {
   "display_name": "Python 3",
   "language": "python",
   "name": "python3"
  },
  "language_info": {
   "codemirror_mode": {
    "name": "ipython",
    "version": 3
   },
   "file_extension": ".py",
   "mimetype": "text/x-python",
   "name": "python",
   "nbconvert_exporter": "python",
   "pygments_lexer": "ipython3",
   "version": "3.7.0"
  }
 },
 "nbformat": 4,
 "nbformat_minor": 2
}
