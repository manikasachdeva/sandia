{
 "cells": [
  {
   "cell_type": "code",
   "execution_count": 6,
   "metadata": {},
   "outputs": [],
   "source": [
    "from pathlib import Path\n",
    "from itertools import chain\n",
    "import pandas as pd\n",
    "import fastparquet\n"
   ]
  },
  {
   "cell_type": "code",
   "execution_count": 7,
   "metadata": {},
   "outputs": [],
   "source": [
    "def sandia2parquet(csvPaths, outputPath):\n",
    "    \"\"\"Combine Sandia raw files and save DataFrame in Parquet.\"\"\"\n",
    "    df = pd.concat(pd.read_csv(p, parse_dates=[[0, 1]], index_col=0) for p in csvPaths)\n",
    "    df.drop_duplicates(inplace=True)\n",
    "    df.sort_index(inplace=True) # ensure datetime is increasing\n",
    "    df.to_parquet(outputPath)\n",
    "    return outputPath"
   ]
  },
  {
   "cell_type": "code",
   "execution_count": 8,
   "metadata": {},
   "outputs": [],
   "source": [
    "# Original Files\n",
    "\n",
    "SANDIA = Path(\"//cfs2e.nist.gov/73_EL/731/internal/CONFOCAL/FS2/Data4/Sandia/Sandia Data\")\n",
    "\n",
    "#DATA1 = SANDIA / \"613_626\"\n",
    "#DATA2 = SANDIA / \"626_711\"\n",
    "#DATA3 = SANDIA / \"711_725\"\n",
    "#DATA4 = SANDIA / \"725_88\"\n",
    "#DATA5 = SANDIA / \"88_822\"\n",
    "#DATA6 = SANDIA / \"822_95\"\n",
    "#DATA7 = SANDIA / \"95_919\"\n",
    "#DATA8 = SANDIA/ \"919_102\"\n",
    "DATA9 = SANDIA /\"1114_1127\"\n",
    "\n",
    "\n",
    "# List Dry files\n",
    "# Parent folder name irregular, sort each list separately then combine\n",
    "PATTERN = \"Dry_*.csv\"\n",
    "DRY_FILES = list(chain.from_iterable([\n",
    "    sorted(DATA9.glob(PATTERN))\n",
    "    #sorted(DATA2.glob(PATTERN))\n",
    "    #sorted(DATA3.glob(PATTERN)),\n",
    "    #sorted(DATA4.glob(PATTERN)),\n",
    "    #sorted(DATA5.glob(PATTERN)),\n",
    "    #sorted(DATA6.glob(PATTERN)),\n",
    "]))\n",
    "\n",
    "# List of Humid files\n",
    "PATTERN = \"Humid_*.csv\"\n",
    "HUMID_FILES = list(chain.from_iterable([\n",
    "    sorted(DATA9.glob(PATTERN))\n",
    "    #3sorted(DATA2.glob(PATTERN))\n",
    "    #dssorted(DATA3.glob(PATTERN)),\n",
    "    #sorted(DATA4.glob(PATTERN)),\n",
    "    #sorted(DATA5.glob(PATTERN)),\n",
    "    #sorted(DATA6.glob(PATTERN)),\n",
    "]))\n",
    "\n",
    "# Output files\n",
    "DRY_PARQUET = Path(\"//cfs2e.nist.gov/73_EL/731/internal/CONFOCAL/FS2/Data4/Sandia/Parquet Files/dry-1114-1127-2018.parquet\")\n",
    "HUMID_PARQUET = Path(\"//cfs2e.nist.gov/73_EL/731/internal/CONFOCAL/FS2/Data4/Sandia/Parquet Files/humid-1114-1127-2018.parquet\")"
   ]
  },
  {
   "cell_type": "code",
   "execution_count": 9,
   "metadata": {
    "scrolled": true
   },
   "outputs": [
    {
     "name": "stdout",
     "output_type": "stream",
     "text": [
      "Wall time: 4min 30s\n"
     ]
    }
   ],
   "source": [
    "%%time\n",
    "# Process raw files if parquet files don't exist\n",
    "if not DRY_PARQUET.exists():\n",
    "    sandia2parquet(DRY_FILES, DRY_PARQUET)\n",
    "dry = pd.read_parquet(DRY_PARQUET)\n",
    "\n"
   ]
  },
  {
   "cell_type": "code",
   "execution_count": null,
   "metadata": {},
   "outputs": [],
   "source": [
    "%%time\n",
    "if not HUMID_PARQUET.exists():\n",
    "    sandia2parquet(HUMID_FILES, HUMID_PARQUET)\n",
    "humid = pd.read_parquet(HUMID_PARQUET)\n",
    "    \n",
    "\n",
    "    \n"
   ]
  },
  {
   "cell_type": "code",
   "execution_count": null,
   "metadata": {},
   "outputs": [],
   "source": []
  },
  {
   "cell_type": "code",
   "execution_count": null,
   "metadata": {},
   "outputs": [],
   "source": []
  }
 ],
 "metadata": {
  "kernelspec": {
   "display_name": "Python 3",
   "language": "python",
   "name": "python3"
  },
  "language_info": {
   "codemirror_mode": {
    "name": "ipython",
    "version": 3
   },
   "file_extension": ".py",
   "mimetype": "text/x-python",
   "name": "python",
   "nbconvert_exporter": "python",
   "pygments_lexer": "ipython3",
   "version": "3.7.0"
  }
 },
 "nbformat": 4,
 "nbformat_minor": 2
}
