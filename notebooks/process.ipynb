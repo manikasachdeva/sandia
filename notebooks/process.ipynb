{
 "cells": [
  {
   "cell_type": "code",
   "execution_count": null,
   "metadata": {},
   "outputs": [],
   "source": [
    "import csv \n",
    "import sys \n",
    "import time \n",
    "from datetime import datetime, time\n",
    "import os \n",
    "import numpy as np\n",
    "import matplotlib.pyplot as plt\n",
    "import pandas as pd\n",
    "#import tkinter as tk\n",
    "from tkinter import *\n",
    "from pathlib import Path\n",
    "from itertools import chain\n",
    "import fastparquet\n",
    "import threading"
   ]
  },
  {
   "cell_type": "code",
   "execution_count": null,
   "metadata": {},
   "outputs": [],
   "source": [
    "\n",
    "print(\"in process function\")\n",
    "\n",
    "def sandia2parquet(csvPaths, outputPath):\n",
    "    \"\"\"Combine Sandia raw files and save DataFrame in Parquet.\"\"\"\n",
    "    print(\"in sandia2parquet function\")\n",
    "    df = pd.concat(pd.read_csv(p, parse_dates=[[0, 1]], index_col=0) for p in csvPaths)\n",
    "    print(\"after data frame\")\n",
    "    df.drop_duplicates(inplace=True)\n",
    "    print(\"drop duplicates\")\n",
    "    df.sort_index(inplace=True) # ensure datetime is increasing\n",
    "    print(\"sort index\")\n",
    "    df.to_parquet(outputPath)\n",
    "    print(\"parquet made\")\n",
    "    return outputPath\n"
   ]
  },
  {
   "cell_type": "code",
   "execution_count": null,
   "metadata": {},
   "outputs": [],
   "source": [
    "SANDIA = Path(\"//cfs2e.nist.gov/73_EL/731/internal/CONFOCAL/FS2/Data4/Sandia/Sandia Data\")\n",
    "DATA1 = SANDIA / \"613_625\"\n",
    "DATA2 = SANDIA / \"626_710\"\n",
    "DATA3 = SANDIA / \"711_725\"\n",
    "\n",
    "print(SANDIA)\n"
   ]
  },
  {
   "cell_type": "code",
   "execution_count": null,
   "metadata": {},
   "outputs": [],
   "source": [
    "# List Dry files\n",
    "# Parent folder name irregular, sort each list separately then combine\n",
    "PATTERN = \"Dry_*.csv\"\n",
    "DRY_FILES = list(chain.from_iterable([\n",
    "    sorted(DATA1.glob(PATTERN)),\n",
    "    sorted(DATA2.glob(PATTERN)),\n",
    "    sorted(DATA3.glob(PATTERN)),\n",
    "]))\n",
    "print(\"dry files list\")"
   ]
  },
  {
   "cell_type": "code",
   "execution_count": null,
   "metadata": {},
   "outputs": [],
   "source": [
    "# List of Humid files\n",
    "PATTERN = \"Humid_*.csv\"\n",
    "HUMID_FILES = list(chain.from_iterable([\n",
    "    sorted(DATA1.glob(PATTERN)),\n",
    "    sorted(DATA2.glob(PATTERN)),\n",
    "    sorted(DATA3.glob(PATTERN)),\n",
    "]))"
   ]
  },
  {
   "cell_type": "code",
   "execution_count": null,
   "metadata": {},
   "outputs": [],
   "source": [
    "# Output files\n",
    "DRY_PARQUET = Path(\"//cfs2e.nist.gov/73_EL/731/internal/CONFOCAL/FS2/Data4/Sandia/Parquet Files/dry-0613-0724-2018.parquet\")\n",
    "HUMID_PARQUET = Path(\"//cfs2e.nist.gov/73_EL/731/internal/CONFOCAL/FS2/Data4/Sandia/Parquet Files/humid-0613-0724-2018.parquet\")\n"
   ]
  },
  {
   "cell_type": "code",
   "execution_count": null,
   "metadata": {},
   "outputs": [],
   "source": [
    "print(DRY_PARQUET)\n",
    "#%%time\n",
    "# Process raw files if parquet files don't exist\n",
    "if not DRY_PARQUET.exists():\n",
    "\n",
    "    sandia2parquet(DRY_FILES, DRY_PARQUET)\n",
    "    print(\"processing dry\")\n",
    "dry = pd.read_parquet(DRY_PARQUET)"
   ]
  },
  {
   "cell_type": "code",
   "execution_count": null,
   "metadata": {},
   "outputs": [],
   "source": [
    "%%time\n",
    "if not HUMID_PARQUET.exists():\n",
    "    sandia2parquet(HUMID_FILES, HUMID_PARQUET)\n",
    "humid = pd.read_parquet(HUMID_PARQUET)\n"
   ]
  },
  {
   "cell_type": "code",
   "execution_count": null,
   "metadata": {},
   "outputs": [],
   "source": []
  }
 ],
 "metadata": {
  "kernelspec": {
   "display_name": "Python 3",
   "language": "python",
   "name": "python3"
  },
  "language_info": {
   "codemirror_mode": {
    "name": "ipython",
    "version": 3
   },
   "file_extension": ".py",
   "mimetype": "text/x-python",
   "name": "python",
   "nbconvert_exporter": "python",
   "pygments_lexer": "ipython3",
   "version": "3.7.0"
  }
 },
 "nbformat": 4,
 "nbformat_minor": 2
}
